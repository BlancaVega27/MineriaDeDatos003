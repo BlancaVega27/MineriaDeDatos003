{
 "cells": [
  {
   "cell_type": "markdown",
   "metadata": {},
   "source": [
    "### Ejercicio 1"
   ]
  },
  {
   "cell_type": "code",
   "execution_count": null,
   "metadata": {},
   "outputs": [],
   "source": [
    "# Realiza una variable con tu matricula y realiza una secuencia de imprimir con tu nombre y tu matricula concatenados.\n",
    "\n",
    "n = \"Blanca\" \n",
    "m = 1795359\n",
    "\n",
    "print(\"Nombre: \",n)\n",
    "print(\"Matricula: \",m)"
   ]
  },
  {
   "cell_type": "markdown",
   "metadata": {},
   "source": [
    "### Ejercicio 2"
   ]
  },
  {
   "cell_type": "code",
   "execution_count": null,
   "metadata": {},
   "outputs": [],
   "source": [
    "# Pidiendo el input del usuario pide dos números y crea una pequeña calculadora con los operadores básicos de suma, resta,\n",
    "# multiplicación, división, y exponente.\n",
    "\n",
    "num1 = int(input(\"Introduce un número: \" ))\n",
    "num2 = int(input(\"Introduce otro número: \"))\n",
    "\n",
    "suma = num1 + num2\n",
    "res = num1 - num2\n",
    "mult = num1 * num2\n",
    "div = num1 / num2\n",
    "exp = num1 ** num2\n",
    "\n",
    "print(\"Suma: \",suma)\n",
    "print(\"Resta: \",res)\n",
    "print(\"Multiplicación: \",mult)\n",
    "print(\"División: \",div)\n",
    "print(\"Exponente: \",exp)"
   ]
  },
  {
   "cell_type": "markdown",
   "metadata": {},
   "source": [
    "### Ejercicio 3"
   ]
  },
  {
   "cell_type": "code",
   "execution_count": null,
   "metadata": {},
   "outputs": [],
   "source": [
    "# Con loop while o for, realiza una lista de 10 numeros multiplos de 3, y después realiza una función de loop \n",
    "# que sume todos los números dentro del arreglo."
   ]
  },
  {
   "cell_type": "markdown",
   "metadata": {},
   "source": [
    "### Ejercicio 4"
   ]
  },
  {
   "cell_type": "code",
   "execution_count": null,
   "metadata": {},
   "outputs": [],
   "source": [
    "# Con una función de if else, revisar si un número es par o es impar.\n",
    "# Con una función de if else, revisar si un número es primo o no.\n",
    "\n",
    "num = int(input(\"Introduce un número: \" ))\n",
    "c = 0\n",
    "\n",
    "if num % 2 == 0:\n",
    "    print (\"El numero\",num,\"es par.\")\n",
    "else:\n",
    "    print (\"El numero\",num,\"es impar.\")\n",
    "    \n",
    "for i in range(1, num+1):\n",
    "    if num % i == 0:\n",
    "        c += 1\n",
    "if c==2:\n",
    "    print(\"El numero\",num,\"es primo.\")\n",
    "else:\n",
    "    print(\"El numero\",num,\"no es primo.\")        "
   ]
  },
  {
   "cell_type": "markdown",
   "metadata": {},
   "source": [
    "### Ejercicio 5"
   ]
  },
  {
   "cell_type": "code",
   "execution_count": null,
   "metadata": {},
   "outputs": [],
   "source": [
    "# Utilizando diferentes clases en python, crea una calculadora con los operadores básicos de suma, resta, \n",
    "# multiplicación, división, y exponente.\n",
    "\n",
    "class calc:\n",
    "    def suma(self,x,y):\n",
    "        print(\"El resultado de la suma es\",str(x+y))\n",
    "    \n",
    "    def resta(self,x,y):\n",
    "        print(\"El resultado de la resta es \",str(x-y))\n",
    "    \n",
    "    def multip(self,x,y):\n",
    "        print(\"El resultado de la multiplicación es \",str(x*y))\n",
    "    \n",
    "    def div(self,x,y):\n",
    "        print(\"El resultado de la división es \",str(x/y))\n",
    "    \n",
    "    def exp(self,x,y):\n",
    "        print(\"El resultado del exponente es  \",str(x**y))\n",
    "        \n",
    "c = calc()\n",
    "    \n",
    "def menu():\n",
    "    print(\"Seleccione una opcion \")\n",
    "    print(\"1.- Suma\")\n",
    "    print(\"2.- Resta\")\n",
    "    print(\"3.- Multiplicación\")\n",
    "    print(\"4.- División\")\n",
    "    print(\"5.- Exponente\")\n",
    "    print(\"6.- Salir\")\n",
    "    return int(input(\"Introduce tu opción: \"))\n",
    "\n",
    "while(True):\n",
    "    opc = menu()\n",
    "    \n",
    "    if(opc == 6):\n",
    "        break\n",
    "        \n",
    "    else:\n",
    "        num1 = int(input(\"Ingrese el primer numero: \"))\n",
    "        num2 = int(input(\"Ingrese el segundo numero: \"))\n",
    "        \n",
    "        if(opc==1):\n",
    "            c.suma(num1,num2)\n",
    "            \n",
    "        elif(opc==2):\n",
    "            c.resta(num1,num2)\n",
    "            \n",
    "        elif(opc==3):\n",
    "            c.multip(num1,num2)\n",
    "            \n",
    "        elif(opc==4):\n",
    "            c.div(num1,num2)\n",
    "            \n",
    "        elif(opc==5):\n",
    "            c.exp(num1,num2)"
   ]
  },
  {
   "cell_type": "markdown",
   "metadata": {},
   "source": [
    "## Tuplas"
   ]
  },
  {
   "cell_type": "markdown",
   "metadata": {},
   "source": [
    "### Ejercicio 6"
   ]
  },
  {
   "cell_type": "code",
   "execution_count": null,
   "metadata": {},
   "outputs": [],
   "source": [
    "# Crear una variable flotante, integer, boleana y compleja e imprimir el tipo de variable que es."
   ]
  },
  {
   "cell_type": "markdown",
   "metadata": {},
   "source": [
    "### Ejercicio 7"
   ]
  },
  {
   "cell_type": "code",
   "execution_count": null,
   "metadata": {},
   "outputs": [],
   "source": [
    "# Crear una tupla con valores enteros imprimir el primer y ultimo valor.\n",
    "\n",
    "n = (1,2,3,4,5,6,7,8)\n",
    "\n",
    "print(\"El primer valor es: \",n[0])\n",
    "print(\"El segundo valor es:\",n[7])"
   ]
  },
  {
   "cell_type": "markdown",
   "metadata": {},
   "source": [
    "### Ejercicio 8"
   ]
  },
  {
   "cell_type": "code",
   "execution_count": null,
   "metadata": {},
   "outputs": [],
   "source": [
    "# Añadir 3 valores de string a la tupla.\n",
    "\n",
    "n = (1,2,3,4,5,6,7,8,[])\n",
    "\n",
    "n[8].append('azul')\n",
    "n[8].append('amarillo')\n",
    "n[8].append('gris')\n",
    "print(n)"
   ]
  },
  {
   "cell_type": "markdown",
   "metadata": {},
   "source": [
    "### Ejercicio 9"
   ]
  },
  {
   "cell_type": "code",
   "execution_count": null,
   "metadata": {},
   "outputs": [],
   "source": [
    "# Verificar si una variable existe dentro de la tupla.\n",
    "\n",
    "n = (1,2,3,4,5,6,7,8)\n",
    "9 in n"
   ]
  },
  {
   "cell_type": "markdown",
   "metadata": {},
   "source": [
    "## Listas"
   ]
  },
  {
   "cell_type": "code",
   "execution_count": null,
   "metadata": {},
   "outputs": [],
   "source": [
    "#Crear una lista con 40 elementos aleatorios enteros.\n",
    "#Con una funcion (def) crear dos listas nuevas a partir de la lista creada por numeros aleatorios, \n",
    "#en la cual en una esten los elementos pares, y en la otra los elementos impares.\n",
    "#Crear dos variables con la longitud de ambas listas nuevas e imprimir las variables.\n",
    "#Ordenar los elementos de la lista par de mayor a menor, y los de la lista impar de menor a mayor.\n",
    "\n",
    "import random\n",
    "\n",
    "def lista_aleat(n):\n",
    "      lista = [0]  * n\n",
    "      for i in range(n):\n",
    "          lista[i] = random.randint(0, 100)\n",
    "      return lista\n",
    "\n",
    "print(\"Ingrese cuantos numeros aleatorios desea obtener\")\n",
    "n = int(input())\n",
    "\n",
    "aleatorios=lista_aleat(n)\n",
    "print(aleatorios)\n",
    "\n",
    "def filtrar_pares(nump):\n",
    "    pares = []\n",
    "    for i in nump:\n",
    "        if i % 2 == 0:\n",
    "            pares.append(i)\n",
    "    return pares\n",
    "\n",
    "npares = filtrar_pares(aleatorios)\n",
    "print(\"Numeros pares:\",npares)\n",
    "\n",
    "def filtrar_impares(imp):\n",
    "    impar = []\n",
    "    for i in imp:\n",
    "        if i % 2 != 0:\n",
    "            impar.append(i)\n",
    "    return impar\n",
    "\n",
    "impares = filtrar_impares(aleatorios)\n",
    "print(\"Numeros impares:\",impares)   \n",
    "\n",
    "lp = len(npares)\n",
    "li = len(impares)\n",
    "\n",
    "print(\"La longitud de la lista de numeros pares es:\",lp)\n",
    "print(\"La longitud de la lista de numeros impares es:\",li)\n",
    "\n",
    "for r in range(1,len(npares)):\n",
    "    for p in range(len(npares) - r):\n",
    "        if npares[p] < npares[p + 1]:\n",
    "            t = npares[p]\n",
    "            npares[p] = npares[p + 1]\n",
    "            npares[p + 1] = t\n",
    "            \n",
    "for r in range(1,len(impares)):\n",
    "    for p in range(len(impares) - r):\n",
    "        if impares[p] > impares[p + 1]:\n",
    "            t = impares[p]\n",
    "            impares[p] = impares[p + 1]\n",
    "            impares[p + 1] = t\n",
    "            \n",
    "print(\"La lista de mayor a menor es:\",npares)\n",
    "print(\"La lista de menor a mayor es:\",impares)"
   ]
  },
  {
   "cell_type": "code",
   "execution_count": null,
   "metadata": {},
   "outputs": [],
   "source": [
    "#Utilizar al menos cuatro de las funciones de listas en python en la lista original de 40 elementos.\n",
    "import random\n",
    "\n",
    "def lista_aleat(n):\n",
    "      lista = [0]  * n\n",
    "      for i in range(n):\n",
    "          lista[i] = random.randint(0, 100)\n",
    "      return lista\n",
    "\n",
    "print(\"Ingrese cuantos numeros aleatorios desea obtener\")\n",
    "n = int(input())\n",
    "\n",
    "aleatorios=lista_aleat(n)\n",
    "print(\"Lista original:\",aleatorios)\n",
    "\n",
    "aleatorios[7] = 100\n",
    "print(\"Cambio de numero en la posición 8:\",aleatorios)\n",
    "\n",
    "print(\"Cortar una lista:\",aleatorios[4:8])\n",
    "\n",
    "aleatorios[1:3] = ['Sol','Luna']\n",
    "print(\"Cambio de elementos:\",aleatorios)\n",
    "\n",
    "aleatorios.append(\"Mar\")\n",
    "print(\"Agregar a una lista al final:\",aleatorios)"
   ]
  },
  {
   "cell_type": "markdown",
   "metadata": {},
   "source": [
    "## Diccionarios"
   ]
  },
  {
   "cell_type": "code",
   "execution_count": null,
   "metadata": {},
   "outputs": [],
   "source": [
    "#Crear un diccionario de 6 personas que conozcas con su primer nombre y su edad.\n",
    "#Crear una lista con los valores de la edad y reacomodar la lista de menor a mayor valor.\n",
    "#Usando el diccionario y un loop, imprimir solo los nombres.\n",
    "#Añadir dos personas nuevas a tu diccionario, incluyendo edad.\n",
    "\n",
    "diccionario = {'nombre' : ['Gloria','Santiago','Diego','Giselle','Mayra','Jose'], 'edad' : [56,5,20,8,29,53]}\n",
    "\n",
    "ed = diccionario['edad']\n",
    "for r in range(1,len(ed)):\n",
    "    for p in range(len(ed) - r):\n",
    "        if ed[p] > ed[p + 1]:\n",
    "            t = ed[p]\n",
    "            ed[p] = ed[p + 1]\n",
    "            ed[p + 1] = t\n",
    "            \n",
    "print(\"La lista de menor a mayor es:\",ed)\n",
    "\n",
    "print(\"Nombres:\",diccionario['nombre'])\n",
    "\n",
    "nom = diccionario['nombre']\n",
    "nom.append(\"Blanca\")\n",
    "nom.append(\"Derick\")\n",
    "ed.append(21)\n",
    "ed.append(11)\n",
    "print(\"Nuevo diccionario:\",diccionario)"
   ]
  },
  {
   "cell_type": "markdown",
   "metadata": {},
   "source": [
    "## Sets"
   ]
  },
  {
   "cell_type": "code",
   "execution_count": null,
   "metadata": {},
   "outputs": [],
   "source": [
    "#Crea un set con 100 numeros aleatorios enteros del 1 al 25.\n",
    "#Comprueba la longitud de tu set.\n",
    "#Crea una lista de 5 numeros aleatorios del 1 al 10 y comprueba si cada valor aparece en el set inicial."
   ]
  },
  {
   "cell_type": "code",
   "execution_count": null,
   "metadata": {},
   "outputs": [],
   "source": []
  }
 ],
 "metadata": {
  "kernelspec": {
   "display_name": "Python 3",
   "language": "python",
   "name": "python3"
  },
  "language_info": {
   "codemirror_mode": {
    "name": "ipython",
    "version": 3
   },
   "file_extension": ".py",
   "mimetype": "text/x-python",
   "name": "python",
   "nbconvert_exporter": "python",
   "pygments_lexer": "ipython3",
   "version": "3.8.5"
  }
 },
 "nbformat": 4,
 "nbformat_minor": 4
}
