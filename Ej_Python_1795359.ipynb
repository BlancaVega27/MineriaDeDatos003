{
 "cells": [
  {
   "cell_type": "markdown",
   "metadata": {},
   "source": [
    "### Ejercicio 1"
   ]
  },
  {
   "cell_type": "code",
   "execution_count": 38,
   "metadata": {},
   "outputs": [
    {
     "name": "stdout",
     "output_type": "stream",
     "text": [
      "Nombre:  Blanca\n",
      "Matricula:  1795359\n"
     ]
    }
   ],
   "source": [
    "# Realiza una variable con tu matricula y realiza una secuencia de imprimir con tu nombre y tu matricula concatenados.\n",
    "\n",
    "n = \"Blanca\" \n",
    "m = 1795359\n",
    "\n",
    "print(\"Nombre: \",n)\n",
    "print(\"Matricula: \",m)"
   ]
  },
  {
   "cell_type": "markdown",
   "metadata": {},
   "source": [
    "### Ejercicio 2"
   ]
  },
  {
   "cell_type": "code",
   "execution_count": 39,
   "metadata": {},
   "outputs": [
    {
     "name": "stdout",
     "output_type": "stream",
     "text": [
      "Introduce un número: 4\n",
      "Introduce otro número: 8\n",
      "Suma:  12\n",
      "Resta:  -4\n",
      "Multiplicación:  32\n",
      "División:  0.5\n",
      "Exponente:  65536\n"
     ]
    }
   ],
   "source": [
    "# Pidiendo el input del usuario pide dos números y crea una pequeña calculadora con los operadores básicos de suma, resta,\n",
    "# multiplicación, división, y exponente.\n",
    "\n",
    "num1 = int(input(\"Introduce un número: \" ))\n",
    "num2 = int(input(\"Introduce otro número: \"))\n",
    "\n",
    "suma = num1 + num2\n",
    "res = num1 - num2\n",
    "mult = num1 * num2\n",
    "div = num1 / num2\n",
    "exp = num1 ** num2\n",
    "\n",
    "print(\"Suma: \",suma)\n",
    "print(\"Resta: \",res)\n",
    "print(\"Multiplicación: \",mult)\n",
    "print(\"División: \",div)\n",
    "print(\"Exponente: \",exp)"
   ]
  },
  {
   "cell_type": "markdown",
   "metadata": {},
   "source": [
    "### Ejercicio 3"
   ]
  },
  {
   "cell_type": "code",
   "execution_count": 40,
   "metadata": {},
   "outputs": [
    {
     "name": "stdout",
     "output_type": "stream",
     "text": [
      "[3, 6, 9, 12, 15, 18, 21, 24, 27, 30]\n",
      "\n",
      "La suma de todos los numeros del arreglo es: 165\n"
     ]
    }
   ],
   "source": [
    "# Con loop while o for, realiza una lista de 10 numeros multiplos de 3, y después realiza una función de loop \n",
    "# que sume todos los números dentro del arreglo.\n",
    "\n",
    "Multiplos=[]\n",
    "i=1\n",
    "while i <= 10:\n",
    "    Multiplos.append(i*3)\n",
    "    i=i+1\n",
    "print(Multiplos)\n",
    "\n",
    "suma=0\n",
    "for i in range(0,10):\n",
    "    suma=suma+Multiplos[i]\n",
    "    i=i+1\n",
    "print(\"\\nLa suma de todos los numeros del arreglo es:\", suma)"
   ]
  },
  {
   "cell_type": "markdown",
   "metadata": {},
   "source": [
    "### Ejercicio 4"
   ]
  },
  {
   "cell_type": "code",
   "execution_count": 41,
   "metadata": {},
   "outputs": [
    {
     "name": "stdout",
     "output_type": "stream",
     "text": [
      "Introduce un número: 4\n",
      "El numero 4 es par.\n",
      "El numero 4 no es primo.\n"
     ]
    }
   ],
   "source": [
    "# Con una función de if else, revisar si un número es par o es impar.\n",
    "# Con una función de if else, revisar si un número es primo o no.\n",
    "\n",
    "num = int(input(\"Introduce un número: \" ))\n",
    "c = 0\n",
    "\n",
    "if num % 2 == 0:\n",
    "    print (\"El numero\",num,\"es par.\")\n",
    "else:\n",
    "    print (\"El numero\",num,\"es impar.\")\n",
    "    \n",
    "for i in range(1, num+1):\n",
    "    if num % i == 0:\n",
    "        c += 1\n",
    "if c==2:\n",
    "    print(\"El numero\",num,\"es primo.\")\n",
    "else:\n",
    "    print(\"El numero\",num,\"no es primo.\")        "
   ]
  },
  {
   "cell_type": "markdown",
   "metadata": {},
   "source": [
    "### Ejercicio 5"
   ]
  },
  {
   "cell_type": "code",
   "execution_count": 42,
   "metadata": {},
   "outputs": [
    {
     "name": "stdout",
     "output_type": "stream",
     "text": [
      "Seleccione una opcion \n",
      "1.- Suma\n",
      "2.- Resta\n",
      "3.- Multiplicación\n",
      "4.- División\n",
      "5.- Exponente\n",
      "6.- Salir\n",
      "Introduce tu opción: 3\n",
      "Ingrese el primer numero: 4\n",
      "Ingrese el segundo numero: 4\n",
      "El resultado de la multiplicación es  16\n",
      "Seleccione una opcion \n",
      "1.- Suma\n",
      "2.- Resta\n",
      "3.- Multiplicación\n",
      "4.- División\n",
      "5.- Exponente\n",
      "6.- Salir\n",
      "Introduce tu opción: 6\n"
     ]
    }
   ],
   "source": [
    "# Utilizando diferentes clases en python, crea una calculadora con los operadores básicos de suma, resta, \n",
    "# multiplicación, división, y exponente.\n",
    "\n",
    "class calc:\n",
    "    def suma(self,x,y):\n",
    "        print(\"El resultado de la suma es\",str(x+y))\n",
    "    \n",
    "    def resta(self,x,y):\n",
    "        print(\"El resultado de la resta es \",str(x-y))\n",
    "    \n",
    "    def multip(self,x,y):\n",
    "        print(\"El resultado de la multiplicación es \",str(x*y))\n",
    "    \n",
    "    def div(self,x,y):\n",
    "        print(\"El resultado de la división es \",str(x/y))\n",
    "    \n",
    "    def exp(self,x,y):\n",
    "        print(\"El resultado del exponente es  \",str(x**y))\n",
    "        \n",
    "c = calc()\n",
    "    \n",
    "def menu():\n",
    "    print(\"Seleccione una opcion \")\n",
    "    print(\"1.- Suma\")\n",
    "    print(\"2.- Resta\")\n",
    "    print(\"3.- Multiplicación\")\n",
    "    print(\"4.- División\")\n",
    "    print(\"5.- Exponente\")\n",
    "    print(\"6.- Salir\")\n",
    "    return int(input(\"Introduce tu opción: \"))\n",
    "\n",
    "while(True):\n",
    "    opc = menu()\n",
    "    \n",
    "    if(opc == 6):\n",
    "        break\n",
    "        \n",
    "    else:\n",
    "        num1 = int(input(\"Ingrese el primer numero: \"))\n",
    "        num2 = int(input(\"Ingrese el segundo numero: \"))\n",
    "        \n",
    "        if(opc==1):\n",
    "            c.suma(num1,num2)\n",
    "            \n",
    "        elif(opc==2):\n",
    "            c.resta(num1,num2)\n",
    "            \n",
    "        elif(opc==3):\n",
    "            c.multip(num1,num2)\n",
    "            \n",
    "        elif(opc==4):\n",
    "            c.div(num1,num2)\n",
    "            \n",
    "        elif(opc==5):\n",
    "            c.exp(num1,num2)"
   ]
  },
  {
   "cell_type": "markdown",
   "metadata": {},
   "source": [
    "## Tuplas"
   ]
  },
  {
   "cell_type": "markdown",
   "metadata": {},
   "source": [
    "### Ejercicio 6"
   ]
  },
  {
   "cell_type": "code",
   "execution_count": 43,
   "metadata": {},
   "outputs": [
    {
     "name": "stdout",
     "output_type": "stream",
     "text": [
      "La variable 8.16 es: <class 'float'>\n",
      "La variable 27 es: <class 'int'>\n",
      "La variable False es: <class 'bool'>\n",
      "La variable (2+4j) es: <class 'complex'>\n"
     ]
    }
   ],
   "source": [
    "# Crear una variable flotante, integer, boleana y compleja e imprimir el tipo de variable que es.\n",
    "\n",
    "n1 = 8.16          \n",
    "n2 = 27            \n",
    "n3 = n1 == n2      \n",
    "n4 = complex(2,4)  \n",
    "\n",
    "print(\"La variable\",n1,\"es:\",type(n1))\n",
    "print(\"La variable\",n2,\"es:\",type(n2))\n",
    "print(\"La variable\",n3,\"es:\",type(n3))\n",
    "print(\"La variable\",n4,\"es:\",type(n4))"
   ]
  },
  {
   "cell_type": "markdown",
   "metadata": {},
   "source": [
    "### Ejercicio 7"
   ]
  },
  {
   "cell_type": "code",
   "execution_count": 44,
   "metadata": {},
   "outputs": [
    {
     "name": "stdout",
     "output_type": "stream",
     "text": [
      "El primer valor es:  1\n",
      "El segundo valor es: 8\n"
     ]
    }
   ],
   "source": [
    "# Crear una tupla con valores enteros imprimir el primer y ultimo valor.\n",
    "\n",
    "n = (1,2,3,4,5,6,7,8)\n",
    "\n",
    "print(\"El primer valor es: \",n[0])\n",
    "print(\"El segundo valor es:\",n[7])"
   ]
  },
  {
   "cell_type": "markdown",
   "metadata": {},
   "source": [
    "### Ejercicio 8"
   ]
  },
  {
   "cell_type": "code",
   "execution_count": 45,
   "metadata": {},
   "outputs": [
    {
     "name": "stdout",
     "output_type": "stream",
     "text": [
      "(1, 2, 3, 4, 5, 6, 7, 8, ['azul', 'amarillo', 'gris'])\n"
     ]
    }
   ],
   "source": [
    "# Añadir 3 valores de string a la tupla.\n",
    "\n",
    "n = (1,2,3,4,5,6,7,8,[])\n",
    "\n",
    "n[8].append('azul')\n",
    "n[8].append('amarillo')\n",
    "n[8].append('gris')\n",
    "print(n)"
   ]
  },
  {
   "cell_type": "markdown",
   "metadata": {},
   "source": [
    "### Ejercicio 9"
   ]
  },
  {
   "cell_type": "code",
   "execution_count": 46,
   "metadata": {},
   "outputs": [
    {
     "data": {
      "text/plain": [
       "False"
      ]
     },
     "execution_count": 46,
     "metadata": {},
     "output_type": "execute_result"
    }
   ],
   "source": [
    "# Verificar si una variable existe dentro de la tupla.\n",
    "\n",
    "n = (1,2,3,4,5,6,7,8)\n",
    "9 in n"
   ]
  },
  {
   "cell_type": "markdown",
   "metadata": {},
   "source": [
    "## Listas"
   ]
  },
  {
   "cell_type": "code",
   "execution_count": 47,
   "metadata": {},
   "outputs": [
    {
     "name": "stdout",
     "output_type": "stream",
     "text": [
      "Ingrese cuantos numeros aleatorios desea obtener\n",
      "10\n",
      "[53, 69, 59, 22, 1, 3, 100, 47, 20, 61]\n",
      "Numeros pares: [22, 100, 20]\n",
      "Numeros impares: [53, 69, 59, 1, 3, 47, 61]\n",
      "La longitud de la lista de numeros pares es: 3\n",
      "La longitud de la lista de numeros impares es: 7\n",
      "La lista de mayor a menor es: [100, 22, 20]\n",
      "La lista de menor a mayor es: [1, 3, 47, 53, 59, 61, 69]\n"
     ]
    }
   ],
   "source": [
    "#Crear una lista con 40 elementos aleatorios enteros.\n",
    "#Con una funcion (def) crear dos listas nuevas a partir de la lista creada por numeros aleatorios, \n",
    "#en la cual en una esten los elementos pares, y en la otra los elementos impares.\n",
    "#Crear dos variables con la longitud de ambas listas nuevas e imprimir las variables.\n",
    "#Ordenar los elementos de la lista par de mayor a menor, y los de la lista impar de menor a mayor.\n",
    "\n",
    "import random\n",
    "\n",
    "def lista_aleat(n):\n",
    "      lista = [0]  * n\n",
    "      for i in range(n):\n",
    "          lista[i] = random.randint(0, 100)\n",
    "      return lista\n",
    "\n",
    "print(\"Ingrese cuantos numeros aleatorios desea obtener\")\n",
    "n = int(input())\n",
    "\n",
    "aleatorios=lista_aleat(n)\n",
    "print(aleatorios)\n",
    "\n",
    "def filtrar_pares(nump):\n",
    "    pares = []\n",
    "    for i in nump:\n",
    "        if i % 2 == 0:\n",
    "            pares.append(i)\n",
    "    return pares\n",
    "\n",
    "npares = filtrar_pares(aleatorios)\n",
    "print(\"Numeros pares:\",npares)\n",
    "\n",
    "def filtrar_impares(imp):\n",
    "    impar = []\n",
    "    for i in imp:\n",
    "        if i % 2 != 0:\n",
    "            impar.append(i)\n",
    "    return impar\n",
    "\n",
    "impares = filtrar_impares(aleatorios)\n",
    "print(\"Numeros impares:\",impares)   \n",
    "\n",
    "lp = len(npares)\n",
    "li = len(impares)\n",
    "\n",
    "print(\"La longitud de la lista de numeros pares es:\",lp)\n",
    "print(\"La longitud de la lista de numeros impares es:\",li)\n",
    "\n",
    "for r in range(1,len(npares)):\n",
    "    for p in range(len(npares) - r):\n",
    "        if npares[p] < npares[p + 1]:\n",
    "            t = npares[p]\n",
    "            npares[p] = npares[p + 1]\n",
    "            npares[p + 1] = t\n",
    "            \n",
    "for r in range(1,len(impares)):\n",
    "    for p in range(len(impares) - r):\n",
    "        if impares[p] > impares[p + 1]:\n",
    "            t = impares[p]\n",
    "            impares[p] = impares[p + 1]\n",
    "            impares[p + 1] = t\n",
    "            \n",
    "print(\"La lista de mayor a menor es:\",npares)\n",
    "print(\"La lista de menor a mayor es:\",impares)"
   ]
  },
  {
   "cell_type": "code",
   "execution_count": 48,
   "metadata": {},
   "outputs": [
    {
     "name": "stdout",
     "output_type": "stream",
     "text": [
      "Ingrese cuantos numeros aleatorios desea obtener\n",
      "16\n",
      "Lista original: [67, 54, 1, 64, 3, 95, 53, 81, 54, 14, 48, 26, 61, 89, 89, 84]\n",
      "Cambio de numero en la posición 8: [67, 54, 1, 64, 3, 95, 53, 100, 54, 14, 48, 26, 61, 89, 89, 84]\n",
      "Cortar una lista: [3, 95, 53, 100]\n",
      "Cambio de elementos: [67, 'Sol', 'Luna', 64, 3, 95, 53, 100, 54, 14, 48, 26, 61, 89, 89, 84]\n",
      "Agregar a una lista al final: [67, 'Sol', 'Luna', 64, 3, 95, 53, 100, 54, 14, 48, 26, 61, 89, 89, 84, 'Mar']\n"
     ]
    }
   ],
   "source": [
    "#Utilizar al menos cuatro de las funciones de listas en python en la lista original de 40 elementos.\n",
    "import random\n",
    "\n",
    "def lista_aleat(n):\n",
    "      lista = [0]  * n\n",
    "      for i in range(n):\n",
    "          lista[i] = random.randint(0, 100)\n",
    "      return lista\n",
    "\n",
    "print(\"Ingrese cuantos numeros aleatorios desea obtener\")\n",
    "n = int(input())\n",
    "\n",
    "aleatorios=lista_aleat(n)\n",
    "print(\"Lista original:\",aleatorios)\n",
    "\n",
    "aleatorios[7] = 100\n",
    "print(\"Cambio de numero en la posición 8:\",aleatorios)\n",
    "\n",
    "print(\"Cortar una lista:\",aleatorios[4:8])\n",
    "\n",
    "aleatorios[1:3] = ['Sol','Luna']\n",
    "print(\"Cambio de elementos:\",aleatorios)\n",
    "\n",
    "aleatorios.append(\"Mar\")\n",
    "print(\"Agregar a una lista al final:\",aleatorios)"
   ]
  },
  {
   "cell_type": "markdown",
   "metadata": {},
   "source": [
    "## Diccionarios"
   ]
  },
  {
   "cell_type": "code",
   "execution_count": 49,
   "metadata": {},
   "outputs": [
    {
     "name": "stdout",
     "output_type": "stream",
     "text": [
      "La lista de menor a mayor es: [5, 8, 20, 29, 53, 56]\n",
      "Nombres: ['Gloria', 'Santiago', 'Diego', 'Giselle', 'Mayra', 'Jose']\n",
      "Nuevo diccionario: {'nombre': ['Gloria', 'Santiago', 'Diego', 'Giselle', 'Mayra', 'Jose', 'Blanca', 'Derick'], 'edad': [5, 8, 20, 29, 53, 56, 21, 11]}\n"
     ]
    }
   ],
   "source": [
    "#Crear un diccionario de 6 personas que conozcas con su primer nombre y su edad.\n",
    "#Crear una lista con los valores de la edad y reacomodar la lista de menor a mayor valor.\n",
    "#Usando el diccionario y un loop, imprimir solo los nombres.\n",
    "#Añadir dos personas nuevas a tu diccionario, incluyendo edad.\n",
    "\n",
    "diccionario = {'nombre' : ['Gloria','Santiago','Diego','Giselle','Mayra','Jose'], 'edad' : [56,5,20,8,29,53]}\n",
    "\n",
    "ed = diccionario['edad']\n",
    "for r in range(1,len(ed)):\n",
    "    for p in range(len(ed) - r):\n",
    "        if ed[p] > ed[p + 1]:\n",
    "            t = ed[p]\n",
    "            ed[p] = ed[p + 1]\n",
    "            ed[p + 1] = t\n",
    "            \n",
    "print(\"La lista de menor a mayor es:\",ed)\n",
    "\n",
    "print(\"Nombres:\",diccionario['nombre'])\n",
    "\n",
    "nom = diccionario['nombre']\n",
    "nom.append(\"Blanca\")\n",
    "nom.append(\"Derick\")\n",
    "ed.append(21)\n",
    "ed.append(11)\n",
    "print(\"Nuevo diccionario:\",diccionario)"
   ]
  },
  {
   "cell_type": "markdown",
   "metadata": {},
   "source": [
    "## Sets"
   ]
  },
  {
   "cell_type": "code",
   "execution_count": 37,
   "metadata": {},
   "outputs": [
    {
     "name": "stdout",
     "output_type": "stream",
     "text": [
      "El set es: {1, 2, 3, 4, 5, 6, 7, 8, 9, 10, 11, 12, 13, 14, 15, 16, 17, 18, 19, 20, 21, 22, 23, 24, 25}\n",
      "La longitud del set es: 25\n",
      "La lista contiene los siguientes valores: [5, 1, 9, 1, 8]\n",
      "El valor 5 si aparece en el set inicial\n",
      "El valor 1 si aparece en el set inicial\n",
      "El valor 9 si aparece en el set inicial\n",
      "El valor 1 si aparece en el set inicial\n",
      "El valor 8 si aparece en el set inicial\n"
     ]
    }
   ],
   "source": [
    "#Crea un set con 100 numeros aleatorios enteros del 1 al 25.\n",
    "#Comprueba la longitud de tu set.\n",
    "#Crea una lista de 5 numeros aleatorios del 1 al 10 y comprueba si cada valor aparece en el set inicial.\n",
    "\n",
    "import random \n",
    "s = set()\n",
    "for i in range(0,100):\n",
    "    x = random.randint(1, 25)\n",
    "    s.add(x)\n",
    "\n",
    "print(\"El set es:\",s)\n",
    "\n",
    "print(\"La longitud del set es:\",len(s))\n",
    "\n",
    "lista=[]\n",
    "for i in range(0,5):\n",
    "    x=random.randint(1,10)\n",
    "    lista.append(x)\n",
    "    \n",
    "print(\"La lista contiene los siguientes valores:\",lista)\n",
    "\n",
    "for i in range(0,len(lista)):\n",
    "    if lista[i] in s:\n",
    "        print(\"El valor\",lista[i],\"si aparece en el set inicial\")"
   ]
  }
 ],
 "metadata": {
  "kernelspec": {
   "display_name": "Python 3",
   "language": "python",
   "name": "python3"
  },
  "language_info": {
   "codemirror_mode": {
    "name": "ipython",
    "version": 3
   },
   "file_extension": ".py",
   "mimetype": "text/x-python",
   "name": "python",
   "nbconvert_exporter": "python",
   "pygments_lexer": "ipython3",
   "version": "3.8.5"
  }
 },
 "nbformat": 4,
 "nbformat_minor": 4
}
